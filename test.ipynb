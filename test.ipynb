{
 "cells": [
  {
   "attachments": {},
   "cell_type": "markdown",
   "metadata": {},
   "source": [
    "# Calc Polygons Area"
   ]
  },
  {
   "cell_type": "code",
   "execution_count": 45,
   "metadata": {},
   "outputs": [],
   "source": [
    "from dataclasses import dataclass\n",
    "from typing import List, Tuple, Union\n",
    "import numpy as np\n",
    "\n",
    "from geometry.points import Point2D\n",
    "\n",
    "@dataclass\n",
    "class Point2D:\n",
    "    x: float\n",
    "    y: float\n",
    "\n",
    "    def __repr__(self):\n",
    "        return f'Point2D <{self.x}, {self.y}>'\n",
    "\n",
    "PointPair = Union[Tuple[float, float], Point2D]\n",
    "\n",
    "class Polygon:\n",
    "    @staticmethod\n",
    "    def _is_valid_tuple(obj) -> bool:\n",
    "        return isinstance(obj, tuple) \\\n",
    "            and len(obj) == 2 \\\n",
    "            and all(isinstance(value, float) for value in obj)\n",
    "\n",
    "    def __init__(self, points: List[PointPair]):\n",
    "        vertices = []\n",
    "        for point in points:\n",
    "            if isinstance(point, Point2D):\n",
    "                vertices.append((point.x, point.y))\n",
    "            elif Polygon._is_valid_tuple(point):\n",
    "                vertices.append(point)\n",
    "            else:\n",
    "                raise TypeError(f\"Expected tuple of 2 floats or Point2D, got {type(point)}\")\n",
    "        self._vertices = np.array(vertices)\n",
    "\n",
    "    @property\n",
    "    def n(self) -> int:\n",
    "        return self._vertices.size\n",
    "\n",
    "    @property\n",
    "    def points(self) -> List[Point2D]:\n",
    "        return [Point2D(x, y) for x, y in self._vertices]\n",
    "\n",
    "    @property\n",
    "    # extract x and y values using array indexing\n",
    "    def coordinates(self) -> Tuple[np.ndarray[float],np.ndarray[float]]:\n",
    "        return self._vertices[:, 0], self._vertices[:, 1]\n",
    "\n",
    "    def calc_area(self) -> float:\n",
    "        # Shift the vertices so that v[i] is paired with v[i+1] in the dot product\n",
    "        v_shifted = np.roll(self._vertices, -1, axis=0)\n",
    "\n",
    "        # Compute the cross product of each pair of adjacent vertices\n",
    "        cross_product = np.cross(self._vertices, v_shifted)\n",
    "\n",
    "        # Compute the area of the polygon as half the sum of the cross products\n",
    "        return abs(0.5 * np.sum(cross_product))\n",
    "\n",
    "    def __repr__(self):\n",
    "        return f'Polygon <{self.n} vertices polygon>'\n",
    "\n"
   ]
  },
  {
   "attachments": {},
   "cell_type": "markdown",
   "metadata": {},
   "source": [
    "Now we instantiate a few polygon objects to play with:"
   ]
  },
  {
   "cell_type": "code",
   "execution_count": 46,
   "metadata": {},
   "outputs": [
    {
     "name": "stdout",
     "output_type": "stream",
     "text": [
      "[(0, 1)]\n",
      "[(0, 1), (1, 2)]\n",
      "[(0, 1), (1, 2), (2, 2)]\n",
      "[(0, 1), (1, 2), (2, 2), (3, 1)]\n",
      "[(0, 3)]\n",
      "[(0, 3), (1, 3)]\n",
      "[(0, 3), (1, 3), (2, 2)]\n",
      "[(0, 3), (1, 3), (2, 2), (3, 2)]\n",
      "[(0, 3), (1, 3), (2, 2), (3, 2), (2, 1)]\n",
      "[(0, 3), (1, 3), (2, 2), (3, 2), (2, 1), (1, 1)]\n",
      "[(6, 3)]\n",
      "[(6, 3), (7, 5)]\n",
      "[(6, 3), (7, 5), (9, 5)]\n",
      "[(6, 3), (7, 5), (9, 5), (7.5, 6.5)]\n",
      "[(6, 3), (7, 5), (9, 5), (7.5, 6.5), (8, 9)]\n",
      "[(6, 3), (7, 5), (9, 5), (7.5, 6.5), (8, 9), (6, 7.5)]\n",
      "[(6, 3), (7, 5), (9, 5), (7.5, 6.5), (8, 9), (6, 7.5), (4, 9)]\n",
      "[(6, 3), (7, 5), (9, 5), (7.5, 6.5), (8, 9), (6, 7.5), (4, 9), (4.5, 6.5)]\n",
      "[(6, 3), (7, 5), (9, 5), (7.5, 6.5), (8, 9), (6, 7.5), (4, 9), (4.5, 6.5), (3, 5)]\n",
      "[(6, 3), (7, 5), (9, 5), (7.5, 6.5), (8, 9), (6, 7.5), (4, 9), (4.5, 6.5), (3, 5), (5, 5)]\n"
     ]
    }
   ],
   "source": [
    "FIRST = Polygon([(0, 1), (1, 2), (2, 2), (3, 1)])\n",
    "SECOND = Polygon([(0, 3), (1, 3), (2, 2), (3, 2), (2, 1), (1, 1)])\n",
    "STAR = Polygon([\n",
    "        (6, 3),\n",
    "        (7, 5),\n",
    "        (9, 5),\n",
    "        (7.5, 6.5),\n",
    "        (8, 9),\n",
    "        (6, 7.5),\n",
    "        (4, 9),\n",
    "        (4.5, 6.5),\n",
    "        (3, 5),\n",
    "        (5, 5),\n",
    "    ]\n",
    ")"
   ]
  },
  {
   "cell_type": "code",
   "execution_count": 47,
   "metadata": {},
   "outputs": [
    {
     "data": {
      "text/plain": [
       "(array([0, 1, 2, 3]), array([1, 2, 2, 1]))"
      ]
     },
     "execution_count": 47,
     "metadata": {},
     "output_type": "execute_result"
    }
   ],
   "source": [
    "FIRST.coordinates"
   ]
  },
  {
   "cell_type": "code",
   "execution_count": 48,
   "metadata": {},
   "outputs": [
    {
     "name": "stdout",
     "output_type": "stream",
     "text": [
      "[0 1 2 3] [1 2 2 1]\n"
     ]
    },
    {
     "data": {
      "text/plain": [
       "[<matplotlib.patches.Polygon at 0x2ca6ed0ddf0>]"
      ]
     },
     "execution_count": 48,
     "metadata": {},
     "output_type": "execute_result"
    },
    {
     "data": {
      "image/png": "[encoded data removed]",
      "text/plain": [
       "<Figure size 640x480 with 1 Axes>"
      ]
     },
     "metadata": {},
     "output_type": "display_data"
    }
   ],
   "source": [
    "%matplotlib inline\n",
    "import numpy as np\n",
    "import matplotlib.pyplot as plt\n",
    "\n",
    "# get the x,y vectors\n",
    "x, y = FIRST.coordinates\n",
    "print(x, y)\n",
    "\n",
    "# create a new figure and axes object\n",
    "fig, ax = plt.subplots()\n",
    "\n",
    "# plot the polygon using the x and y values\n",
    "ax.fill(x, y)\n",
    "\n",
    "# show the plot\n",
    "#plt.show()"
   ]
  },
  {
   "cell_type": "code",
   "execution_count": 49,
   "metadata": {},
   "outputs": [
    {
     "data": {
      "text/plain": [
       "2.0"
      ]
     },
     "execution_count": 49,
     "metadata": {},
     "output_type": "execute_result"
    }
   ],
   "source": [
    "# Calculating Polygon Area\n",
    "FIRST.calc_area()"
   ]
  }
 ],
 "metadata": {
  "kernelspec": {
   "display_name": "jupyter",
   "language": "python",
   "name": "python3"
  },
  "language_info": {
   "codemirror_mode": {
    "name": "ipython",
    "version": 3
   },
   "file_extension": ".py",
   "mimetype": "text/x-python",
   "name": "python",
   "nbconvert_exporter": "python",
   "pygments_lexer": "ipython3",
   "version": "3.9.15"
  },
  "orig_nbformat": 4
 },
 "nbformat": 4,
 "nbformat_minor": 2
}
